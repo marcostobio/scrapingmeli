{
 "cells": [
  {
   "cell_type": "code",
   "execution_count": 30,
   "id": "8e88f89a-1f11-4e40-8ddb-bbe0c1c0bca8",
   "metadata": {},
   "outputs": [],
   "source": [
    "import requests\n",
    "from bs4 import BeautifulSoup\n",
    "from lxml import etree\n",
    "import pandas as pd\n"
   ]
  },
  {
   "cell_type": "code",
   "execution_count": 31,
   "id": "33db0f0e-0245-410e-b4e9-16d0f69d83fa",
   "metadata": {},
   "outputs": [],
   "source": [
    "r = requests.get(\"https://listado.mercadolibre.com.ar/notebook\")"
   ]
  },
  {
   "cell_type": "code",
   "execution_count": 32,
   "id": "d8ff742f-02d7-41bf-acfc-c9752dda7419",
   "metadata": {},
   "outputs": [
    {
     "data": {
      "text/plain": [
       "200"
      ]
     },
     "execution_count": 32,
     "metadata": {},
     "output_type": "execute_result"
    }
   ],
   "source": [
    "r.status_code"
   ]
  },
  {
   "cell_type": "code",
   "execution_count": 33,
   "id": "9307f90d-e609-4fe9-beb1-3b839e71814a",
   "metadata": {},
   "outputs": [],
   "source": [
    "soup = BeautifulSoup(r.content,'html.parser')"
   ]
  },
  {
   "cell_type": "code",
   "execution_count": 34,
   "id": "e31492af-be67-4473-9ad3-387d0bf07379",
   "metadata": {},
   "outputs": [],
   "source": [
    "titulos = soup.find_all('h2',attrs={\"class\":\"ui-search-item__title shops__item-title\"})"
   ]
  },
  {
   "cell_type": "code",
   "execution_count": 35,
   "id": "aaebc377-1cc6-4ee4-85ed-1f9167fc7853",
   "metadata": {},
   "outputs": [],
   "source": [
    "titulos=[i.text for i in titulos]"
   ]
  },
  {
   "cell_type": "code",
   "execution_count": 36,
   "id": "27516bf8-ec8d-42e7-837c-a3676a9770d7",
   "metadata": {},
   "outputs": [],
   "source": [
    "urls = soup.find_all('a',attrs={\"class\":\"ui-search-item__group__element shops__items-group-details ui-search-link\"})"
   ]
  },
  {
   "cell_type": "code",
   "execution_count": 37,
   "id": "6c7f9227-a301-46b7-8272-982b2b4a8cff",
   "metadata": {},
   "outputs": [],
   "source": [
    "urls = [i.get('href') for i in urls]"
   ]
  },
  {
   "cell_type": "code",
   "execution_count": 38,
   "id": "2dd116d9-d1ba-4019-add4-3a2bf65cf683",
   "metadata": {},
   "outputs": [],
   "source": [
    "dom = etree.HTML(str(soup))\n",
    "precios = dom.xpath(\"//div[@class='ui-search-price__second-line shops__price-second-line']//span[@class='price-tag-text-sr-only']\")"
   ]
  },
  {
   "cell_type": "code",
   "execution_count": 39,
   "id": "b794960b-3815-4223-96a5-5daee9977bd0",
   "metadata": {},
   "outputs": [
    {
     "data": {
      "text/plain": [
       "54"
      ]
     },
     "execution_count": 39,
     "metadata": {},
     "output_type": "execute_result"
    }
   ],
   "source": [
    "len(urls)"
   ]
  },
  {
   "cell_type": "code",
   "execution_count": 40,
   "id": "4fe72777-604b-4be9-891f-0eef0d956ba5",
   "metadata": {},
   "outputs": [],
   "source": [
    "precios=[i.text for i in precios]"
   ]
  },
  {
   "cell_type": "code",
   "execution_count": 41,
   "id": "0c193c39-7f7b-4a33-933b-22ac1f319042",
   "metadata": {},
   "outputs": [],
   "source": [
    "#df = pd.DataFrame({\"titulo\":titulos,\"url\":urls,\"precio\":precios})"
   ]
  },
  {
   "cell_type": "code",
   "execution_count": 42,
   "id": "01cbd59d-9fea-4b99-8e61-15f179718f18",
   "metadata": {},
   "outputs": [],
   "source": [
    "#df.to_csv(\"compus.csv\")"
   ]
  },
  {
   "cell_type": "code",
   "execution_count": 43,
   "id": "1a3904ba-e3ed-41bd-8711-8169fb42002f",
   "metadata": {},
   "outputs": [],
   "source": [
    "siguiente = dom.xpath(\"//div[@class='ui-search-pagination shops__pagination-content']/ul/li[contains(@class,'--next')]/a\")[0].get('href')"
   ]
  },
  {
   "cell_type": "code",
   "execution_count": 44,
   "id": "10d51c9e-00b0-4f7c-9c87-c49c382429e4",
   "metadata": {},
   "outputs": [
    {
     "data": {
      "text/plain": [
       "'https://listado.mercadolibre.com.ar/computacion/laptops-accesorios/notebooks/notebook_Desde_51_NoIndex_True'"
      ]
     },
     "execution_count": 44,
     "metadata": {},
     "output_type": "execute_result"
    }
   ],
   "source": [
    "siguiente"
   ]
  },
  {
   "cell_type": "code",
   "execution_count": 45,
   "id": "e933d939-c9ee-4098-89aa-2a8480870d7c",
   "metadata": {},
   "outputs": [],
   "source": [
    "inicio = soup.find('span',attrs={\"andes-pagination__link\"}).text\n",
    "inicio = int(inicio)"
   ]
  },
  {
   "cell_type": "code",
   "execution_count": 46,
   "id": "62e51d3d-a3b7-47e8-a518-4bae6c62b3b9",
   "metadata": {},
   "outputs": [],
   "source": [
    "fin = soup.find('li',attrs={\"andes-pagination__page-count\"})\n",
    "fin = int(fin.text.split(\" \")[1])\n"
   ]
  },
  {
   "cell_type": "code",
   "execution_count": 47,
   "id": "a4e257e2-7ba0-4103-b15c-9782dcd256cb",
   "metadata": {},
   "outputs": [],
   "source": [
    "#creamos las listas\n",
    "lista_titulos = []\n",
    "lista_url = []\n",
    "lista_precios = []\n"
   ]
  },
  {
   "cell_type": "code",
   "execution_count": 51,
   "id": "da2126a9-7b75-48d9-9281-0dc7cc051e10",
   "metadata": {},
   "outputs": [
    {
     "name": "stdout",
     "output_type": "stream",
     "text": [
      "1 40\n",
      "2 40\n",
      "3 40\n",
      "4 40\n",
      "5 40\n",
      "6 40\n",
      "7 40\n",
      "8 40\n",
      "9 40\n",
      "10 40\n",
      "11 40\n",
      "12 40\n",
      "13 40\n",
      "14 40\n",
      "15 40\n",
      "16 40\n",
      "17 40\n",
      "18 40\n",
      "19 40\n",
      "20 40\n",
      "21 40\n",
      "22 40\n",
      "23 40\n",
      "24 40\n",
      "25 40\n",
      "26 40\n",
      "27 40\n",
      "28 40\n",
      "29 40\n",
      "30 40\n",
      "31 40\n",
      "32 40\n",
      "33 40\n",
      "34 40\n",
      "35 40\n",
      "36 40\n",
      "37 40\n",
      "38 40\n",
      "39 40\n",
      "40 40\n"
     ]
    }
   ],
   "source": [
    "siguiente = 'https://listado.mercadolibre.com.ar/notebook'\n",
    "\n",
    "while True:\n",
    "    \n",
    "    r = requests.get(siguiente)\n",
    "    #hacemos el requerimiento y deberia contestar 200 en el primer ciclo mandamos solo mercadolibre\n",
    "    if r.status_code == 200:\n",
    "        #validamos que responda la pagina si respomnde hacemos el soup\n",
    "        soup = BeautifulSoup(r.content,'html.parser')\n",
    "        #traemos los titulos las url y los precios con sus for\n",
    "        #Titulos\n",
    "        titulos = soup.find_all('h2',attrs={\"class\":\"ui-search-item__title shops__item-title\"})\n",
    "        titulos = [i.text for i in titulos]\n",
    "        lista_titulos.extend(titulos) #agregamos a las en cada ciclo a la lista_titulos todo lo que extrajo\n",
    "        #URL\n",
    "        urls = soup.find_all('a',attrs={\"class\":\"ui-search-item__group__element shops__items-group-details ui-search-link\"})\n",
    "        urls = [i.get('href') for i in urls]\n",
    "        lista_url.extend(urls)  #agregamos a las en cada ciclo a la lista_url todo lo que extrajo\n",
    "        #precios\n",
    "        dom = etree.HTML(str(soup))\n",
    "        precios = dom.xpath(\"//div[@class='ui-search-price__second-line shops__price-second-line']//span[@class='price-tag-text-sr-only']\")\n",
    "        precios=[i.text for i in precios]\n",
    "        lista_precios.extend(precios)\n",
    "        #validamos inicio y fin de las paginas\n",
    "        inicio = soup.find('span',attrs={\"andes-pagination__link\"}).text\n",
    "        inicio = int(inicio)\n",
    "        fin = soup.find('li',attrs={\"andes-pagination__page-count\"})\n",
    "        fin = int(fin.text.split(\" \")[1])\n",
    "    \n",
    "    else:\n",
    "        break\n",
    "        #si no responde. rompemos el ciclo\n",
    "    \n",
    "    print(inicio,fin)\n",
    "    \n",
    "    if inicio == fin:\n",
    "        break\n",
    "    siguiente = dom.xpath(\"//div[@class='ui-search-pagination shops__pagination-content']/ul/li[contains(@class,'--next')]/a\")[0].get('href')\n",
    "    #si inicio = fin rompemos el ciclo, sino pasamos a la siguiente pagina dentro de mercadolibre\n"
   ]
  },
  {
   "cell_type": "code",
   "execution_count": 52,
   "id": "c0e3605a-e94a-4f62-ac95-602f0120f474",
   "metadata": {},
   "outputs": [
    {
     "name": "stdout",
     "output_type": "stream",
     "text": [
      "6318\n",
      "6318\n",
      "6318\n"
     ]
    }
   ],
   "source": [
    "print(len(lista_titulos))\n",
    "print(len(lista_url))\n",
    "print(len(lista_precios))"
   ]
  },
  {
   "cell_type": "code",
   "execution_count": 54,
   "id": "f5cefd8d-cbd5-41e0-a715-07e1e707e208",
   "metadata": {},
   "outputs": [],
   "source": [
    "df = pd.DataFrame({\"titulo\":lista_titulos,\"url\":lista_url,\"precios\":lista_precios}) #creamos un DataFrame con los que recogio en las tres listas"
   ]
  },
  {
   "cell_type": "code",
   "execution_count": 58,
   "id": "777cc4d3-bbbd-4b8a-ad66-2d15798219ad",
   "metadata": {},
   "outputs": [],
   "source": [
    "df.to_csv(\"compus.csv\") #esportamos a csv"
   ]
  },
  {
   "cell_type": "code",
   "execution_count": null,
   "id": "ea00e7df-d885-4d50-8bad-7ce279799103",
   "metadata": {},
   "outputs": [],
   "source": []
  }
 ],
 "metadata": {
  "kernelspec": {
   "display_name": "Python 3.10.7 ('venv': venv)",
   "language": "python",
   "name": "python3"
  },
  "language_info": {
   "codemirror_mode": {
    "name": "ipython",
    "version": 3
   },
   "file_extension": ".py",
   "mimetype": "text/x-python",
   "name": "python",
   "nbconvert_exporter": "python",
   "pygments_lexer": "ipython3",
   "version": "3.10.7"
  },
  "vscode": {
   "interpreter": {
    "hash": "bdb0a1779ef7db868e1ca41cbfe4bec49a12bd8c2410c0f2b6962649e1afeab7"
   }
  }
 },
 "nbformat": 4,
 "nbformat_minor": 5
}
